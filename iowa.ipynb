{
 "cells": [
  {
   "cell_type": "code",
   "execution_count": 1,
   "metadata": {},
   "outputs": [],
   "source": [
    "import requests as r\n",
    "import pandas as pd\n",
    "from bs4 import BeautifulSoup\n",
    "\n",
    "%matplotlib inline"
   ]
  },
  {
   "cell_type": "code",
   "execution_count": 2,
   "metadata": {},
   "outputs": [],
   "source": [
    "url = 'https://results.thecaucuses.org/'"
   ]
  },
  {
   "cell_type": "code",
   "execution_count": 3,
   "metadata": {},
   "outputs": [],
   "source": [
    "resp = r.get(url)"
   ]
  },
  {
   "cell_type": "code",
   "execution_count": 4,
   "metadata": {},
   "outputs": [],
   "source": [
    "soup = BeautifulSoup(resp.text)"
   ]
  },
  {
   "cell_type": "code",
   "execution_count": 5,
   "metadata": {},
   "outputs": [],
   "source": [
    "precinct_table = soup.find('div', {'class': 'precinct-table'})\n",
    "thead = [li.text for li in soup.find('ul', {'class': 'thead'}).findAll('li')]\n",
    "sub_head = [li.text for li in soup.find('ul', {'class': 'sub-head'}).findAll('li')]"
   ]
  },
  {
   "cell_type": "code",
   "execution_count": 6,
   "metadata": {},
   "outputs": [],
   "source": [
    "candidates = [thead[i] for i in range(2,len(thead), 3)]"
   ]
  },
  {
   "cell_type": "code",
   "execution_count": 7,
   "metadata": {},
   "outputs": [],
   "source": [
    "counties = precinct_table.findAll('div', attrs = {'class': 'precinct-rows'})"
   ]
  },
  {
   "cell_type": "code",
   "execution_count": 8,
   "metadata": {},
   "outputs": [],
   "source": [
    "county = counties[0]"
   ]
  },
  {
   "cell_type": "code",
   "execution_count": 9,
   "metadata": {},
   "outputs": [],
   "source": [
    "rows = []\n",
    "for county in counties:\n",
    "    county_name = county.find('div', {'class': 'precinct-county'}).find('div', {'class': 'wrap'}).text\n",
    "    county_data = county.find('div', {'class': 'precinct-data'}).findAll('ul', lambda v: v != 'total-row')\n",
    "    for row in county_data:\n",
    "        row_data = [col.text for col in row.findAll('li')]\n",
    "        precinct_name = row_data[0]\n",
    "        for i in range(1,len(row_data), 3):\n",
    "            first_exp, final_exp, sde = row_data[i:(i+3)]\n",
    "            candidate = candidates[i//3]\n",
    "            rows.append(dict(county=county_name, precinct=precinct_name, candidate=candidate, \n",
    "                             first_exp=int(first_exp), final_exp=int(final_exp), sde=float(sde)))"
   ]
  },
  {
   "cell_type": "code",
   "execution_count": 10,
   "metadata": {},
   "outputs": [],
   "source": [
    "df = pd.DataFrame(rows).sort_values(['county', 'precinct', 'candidate'])"
   ]
  },
  {
   "cell_type": "code",
   "execution_count": 11,
   "metadata": {},
   "outputs": [
    {
     "data": {
      "text/html": [
       "<div>\n",
       "<style scoped>\n",
       "    .dataframe tbody tr th:only-of-type {\n",
       "        vertical-align: middle;\n",
       "    }\n",
       "\n",
       "    .dataframe tbody tr th {\n",
       "        vertical-align: top;\n",
       "    }\n",
       "\n",
       "    .dataframe thead th {\n",
       "        text-align: right;\n",
       "    }\n",
       "</style>\n",
       "<table border=\"1\" class=\"dataframe\">\n",
       "  <thead>\n",
       "    <tr style=\"text-align: right;\">\n",
       "      <th></th>\n",
       "      <th></th>\n",
       "      <th>first_exp</th>\n",
       "      <th>final_exp</th>\n",
       "      <th>sde</th>\n",
       "    </tr>\n",
       "    <tr>\n",
       "      <th>candidate</th>\n",
       "      <th>county</th>\n",
       "      <th></th>\n",
       "      <th></th>\n",
       "      <th></th>\n",
       "    </tr>\n",
       "  </thead>\n",
       "  <tbody>\n",
       "    <tr>\n",
       "      <th rowspan=\"5\" valign=\"top\">Bennet</th>\n",
       "      <th>Adair</th>\n",
       "      <td>0</td>\n",
       "      <td>0</td>\n",
       "      <td>0.0000</td>\n",
       "    </tr>\n",
       "    <tr>\n",
       "      <th>Adams</th>\n",
       "      <td>0</td>\n",
       "      <td>0</td>\n",
       "      <td>0.0000</td>\n",
       "    </tr>\n",
       "    <tr>\n",
       "      <th>Allamakee</th>\n",
       "      <td>1</td>\n",
       "      <td>0</td>\n",
       "      <td>0.0000</td>\n",
       "    </tr>\n",
       "    <tr>\n",
       "      <th>Appanoose</th>\n",
       "      <td>0</td>\n",
       "      <td>0</td>\n",
       "      <td>0.0000</td>\n",
       "    </tr>\n",
       "    <tr>\n",
       "      <th>Audubon</th>\n",
       "      <td>0</td>\n",
       "      <td>0</td>\n",
       "      <td>0.0000</td>\n",
       "    </tr>\n",
       "    <tr>\n",
       "      <th>...</th>\n",
       "      <th>...</th>\n",
       "      <td>...</td>\n",
       "      <td>...</td>\n",
       "      <td>...</td>\n",
       "    </tr>\n",
       "    <tr>\n",
       "      <th rowspan=\"5\" valign=\"top\">Yang</th>\n",
       "      <th>Winnebago</th>\n",
       "      <td>34</td>\n",
       "      <td>29</td>\n",
       "      <td>0.4500</td>\n",
       "    </tr>\n",
       "    <tr>\n",
       "      <th>Winneshiek</th>\n",
       "      <td>168</td>\n",
       "      <td>49</td>\n",
       "      <td>0.5120</td>\n",
       "    </tr>\n",
       "    <tr>\n",
       "      <th>Woodbury</th>\n",
       "      <td>167</td>\n",
       "      <td>40</td>\n",
       "      <td>0.6375</td>\n",
       "    </tr>\n",
       "    <tr>\n",
       "      <th>Worth</th>\n",
       "      <td>28</td>\n",
       "      <td>23</td>\n",
       "      <td>0.4000</td>\n",
       "    </tr>\n",
       "    <tr>\n",
       "      <th>Wright</th>\n",
       "      <td>5</td>\n",
       "      <td>0</td>\n",
       "      <td>0.0000</td>\n",
       "    </tr>\n",
       "  </tbody>\n",
       "</table>\n",
       "<p>1456 rows × 3 columns</p>\n",
       "</div>"
      ],
      "text/plain": [
       "                      first_exp  final_exp     sde\n",
       "candidate county                                  \n",
       "Bennet    Adair               0          0  0.0000\n",
       "          Adams               0          0  0.0000\n",
       "          Allamakee           1          0  0.0000\n",
       "          Appanoose           0          0  0.0000\n",
       "          Audubon             0          0  0.0000\n",
       "...                         ...        ...     ...\n",
       "Yang      Winnebago          34         29  0.4500\n",
       "          Winneshiek        168         49  0.5120\n",
       "          Woodbury          167         40  0.6375\n",
       "          Worth              28         23  0.4000\n",
       "          Wright              5          0  0.0000\n",
       "\n",
       "[1456 rows x 3 columns]"
      ]
     },
     "execution_count": 11,
     "metadata": {},
     "output_type": "execute_result"
    }
   ],
   "source": [
    "df.groupby(['candidate', 'county'])[['first_exp', 'final_exp', 'sde']].sum()"
   ]
  },
  {
   "cell_type": "code",
   "execution_count": 12,
   "metadata": {},
   "outputs": [],
   "source": [
    "df.to_csv('iowa_data.csv', index=False)"
   ]
  },
  {
   "cell_type": "code",
   "execution_count": 13,
   "metadata": {},
   "outputs": [
    {
     "data": {
      "text/html": [
       "<style  type=\"text/css\" >\n",
       "    #T_27bff718_494c_11ea_82ca_7735170f7fefrow0_col2 {\n",
       "            background-color:  yellow;\n",
       "        }    #T_27bff718_494c_11ea_82ca_7735170f7fefrow1_col0 {\n",
       "            background-color:  yellow;\n",
       "        }    #T_27bff718_494c_11ea_82ca_7735170f7fefrow1_col1 {\n",
       "            background-color:  yellow;\n",
       "        }</style><table id=\"T_27bff718_494c_11ea_82ca_7735170f7fef\" ><thead>    <tr>        <th class=\"blank level0\" ></th>        <th class=\"col_heading level0 col0\" >first_exp</th>        <th class=\"col_heading level0 col1\" >final_exp</th>        <th class=\"col_heading level0 col2\" >sde</th>    </tr>    <tr>        <th class=\"index_name level0\" >candidate</th>        <th class=\"blank\" ></th>        <th class=\"blank\" ></th>        <th class=\"blank\" ></th>    </tr></thead><tbody>\n",
       "                <tr>\n",
       "                        <th id=\"T_27bff718_494c_11ea_82ca_7735170f7feflevel0_row0\" class=\"row_heading level0 row0\" >Buttigieg</th>\n",
       "                        <td id=\"T_27bff718_494c_11ea_82ca_7735170f7fefrow0_col0\" class=\"data row0 col0\" >37557</td>\n",
       "                        <td id=\"T_27bff718_494c_11ea_82ca_7735170f7fefrow0_col1\" class=\"data row0 col1\" >43195</td>\n",
       "                        <td id=\"T_27bff718_494c_11ea_82ca_7735170f7fefrow0_col2\" class=\"data row0 col2\" >564.012</td>\n",
       "            </tr>\n",
       "            <tr>\n",
       "                        <th id=\"T_27bff718_494c_11ea_82ca_7735170f7feflevel0_row1\" class=\"row_heading level0 row1\" >Sanders</th>\n",
       "                        <td id=\"T_27bff718_494c_11ea_82ca_7735170f7fefrow1_col0\" class=\"data row1 col0\" >43671</td>\n",
       "                        <td id=\"T_27bff718_494c_11ea_82ca_7735170f7fefrow1_col1\" class=\"data row1 col1\" >45826</td>\n",
       "                        <td id=\"T_27bff718_494c_11ea_82ca_7735170f7fefrow1_col2\" class=\"data row1 col2\" >562.497</td>\n",
       "            </tr>\n",
       "            <tr>\n",
       "                        <th id=\"T_27bff718_494c_11ea_82ca_7735170f7feflevel0_row2\" class=\"row_heading level0 row2\" >Warren</th>\n",
       "                        <td id=\"T_27bff718_494c_11ea_82ca_7735170f7fefrow2_col0\" class=\"data row2 col0\" >32533</td>\n",
       "                        <td id=\"T_27bff718_494c_11ea_82ca_7735170f7fefrow2_col1\" class=\"data row2 col1\" >34771</td>\n",
       "                        <td id=\"T_27bff718_494c_11ea_82ca_7735170f7fefrow2_col2\" class=\"data row2 col2\" >387.069</td>\n",
       "            </tr>\n",
       "            <tr>\n",
       "                        <th id=\"T_27bff718_494c_11ea_82ca_7735170f7feflevel0_row3\" class=\"row_heading level0 row3\" >Biden</th>\n",
       "                        <td id=\"T_27bff718_494c_11ea_82ca_7735170f7fefrow3_col0\" class=\"data row3 col0\" >26384</td>\n",
       "                        <td id=\"T_27bff718_494c_11ea_82ca_7735170f7fefrow3_col1\" class=\"data row3 col1\" >23691</td>\n",
       "                        <td id=\"T_27bff718_494c_11ea_82ca_7735170f7fefrow3_col2\" class=\"data row3 col2\" >341.172</td>\n",
       "            </tr>\n",
       "            <tr>\n",
       "                        <th id=\"T_27bff718_494c_11ea_82ca_7735170f7feflevel0_row4\" class=\"row_heading level0 row4\" >Klobuchar</th>\n",
       "                        <td id=\"T_27bff718_494c_11ea_82ca_7735170f7fefrow4_col0\" class=\"data row4 col0\" >22469</td>\n",
       "                        <td id=\"T_27bff718_494c_11ea_82ca_7735170f7fefrow4_col1\" class=\"data row4 col1\" >21181</td>\n",
       "                        <td id=\"T_27bff718_494c_11ea_82ca_7735170f7fefrow4_col2\" class=\"data row4 col2\" >264.204</td>\n",
       "            </tr>\n",
       "            <tr>\n",
       "                        <th id=\"T_27bff718_494c_11ea_82ca_7735170f7feflevel0_row5\" class=\"row_heading level0 row5\" >Yang</th>\n",
       "                        <td id=\"T_27bff718_494c_11ea_82ca_7735170f7fefrow5_col0\" class=\"data row5 col0\" >8821</td>\n",
       "                        <td id=\"T_27bff718_494c_11ea_82ca_7735170f7fefrow5_col1\" class=\"data row5 col1\" >1780</td>\n",
       "                        <td id=\"T_27bff718_494c_11ea_82ca_7735170f7fefrow5_col2\" class=\"data row5 col2\" >22.2226</td>\n",
       "            </tr>\n",
       "            <tr>\n",
       "                        <th id=\"T_27bff718_494c_11ea_82ca_7735170f7feflevel0_row6\" class=\"row_heading level0 row6\" >Steyer</th>\n",
       "                        <td id=\"T_27bff718_494c_11ea_82ca_7735170f7fefrow6_col0\" class=\"data row6 col0\" >3083</td>\n",
       "                        <td id=\"T_27bff718_494c_11ea_82ca_7735170f7fefrow6_col1\" class=\"data row6 col1\" >413</td>\n",
       "                        <td id=\"T_27bff718_494c_11ea_82ca_7735170f7fefrow6_col2\" class=\"data row6 col2\" >6.7389</td>\n",
       "            </tr>\n",
       "            <tr>\n",
       "                        <th id=\"T_27bff718_494c_11ea_82ca_7735170f7feflevel0_row7\" class=\"row_heading level0 row7\" >Uncommitted</th>\n",
       "                        <td id=\"T_27bff718_494c_11ea_82ca_7735170f7fefrow7_col0\" class=\"data row7 col0\" >984</td>\n",
       "                        <td id=\"T_27bff718_494c_11ea_82ca_7735170f7fefrow7_col1\" class=\"data row7 col1\" >1418</td>\n",
       "                        <td id=\"T_27bff718_494c_11ea_82ca_7735170f7fefrow7_col2\" class=\"data row7 col2\" >3.9571</td>\n",
       "            </tr>\n",
       "            <tr>\n",
       "                        <th id=\"T_27bff718_494c_11ea_82ca_7735170f7feflevel0_row8\" class=\"row_heading level0 row8\" >Other</th>\n",
       "                        <td id=\"T_27bff718_494c_11ea_82ca_7735170f7fefrow8_col0\" class=\"data row8 col0\" >159</td>\n",
       "                        <td id=\"T_27bff718_494c_11ea_82ca_7735170f7fefrow8_col1\" class=\"data row8 col1\" >205</td>\n",
       "                        <td id=\"T_27bff718_494c_11ea_82ca_7735170f7fefrow8_col2\" class=\"data row8 col2\" >0.6931</td>\n",
       "            </tr>\n",
       "            <tr>\n",
       "                        <th id=\"T_27bff718_494c_11ea_82ca_7735170f7feflevel0_row9\" class=\"row_heading level0 row9\" >Bloomberg</th>\n",
       "                        <td id=\"T_27bff718_494c_11ea_82ca_7735170f7fefrow9_col0\" class=\"data row9 col0\" >217</td>\n",
       "                        <td id=\"T_27bff718_494c_11ea_82ca_7735170f7fefrow9_col1\" class=\"data row9 col1\" >20</td>\n",
       "                        <td id=\"T_27bff718_494c_11ea_82ca_7735170f7fefrow9_col2\" class=\"data row9 col2\" >0.2096</td>\n",
       "            </tr>\n",
       "            <tr>\n",
       "                        <th id=\"T_27bff718_494c_11ea_82ca_7735170f7feflevel0_row10\" class=\"row_heading level0 row10\" >Gabbard</th>\n",
       "                        <td id=\"T_27bff718_494c_11ea_82ca_7735170f7fefrow10_col0\" class=\"data row10 col0\" >334</td>\n",
       "                        <td id=\"T_27bff718_494c_11ea_82ca_7735170f7fefrow10_col1\" class=\"data row10 col1\" >17</td>\n",
       "                        <td id=\"T_27bff718_494c_11ea_82ca_7735170f7fefrow10_col2\" class=\"data row10 col2\" >0.1143</td>\n",
       "            </tr>\n",
       "            <tr>\n",
       "                        <th id=\"T_27bff718_494c_11ea_82ca_7735170f7feflevel0_row11\" class=\"row_heading level0 row11\" >Bennet</th>\n",
       "                        <td id=\"T_27bff718_494c_11ea_82ca_7735170f7fefrow11_col0\" class=\"data row11 col0\" >164</td>\n",
       "                        <td id=\"T_27bff718_494c_11ea_82ca_7735170f7fefrow11_col1\" class=\"data row11 col1\" >4</td>\n",
       "                        <td id=\"T_27bff718_494c_11ea_82ca_7735170f7fefrow11_col2\" class=\"data row11 col2\" >0</td>\n",
       "            </tr>\n",
       "            <tr>\n",
       "                        <th id=\"T_27bff718_494c_11ea_82ca_7735170f7feflevel0_row12\" class=\"row_heading level0 row12\" >Delaney</th>\n",
       "                        <td id=\"T_27bff718_494c_11ea_82ca_7735170f7fefrow12_col0\" class=\"data row12 col0\" >10</td>\n",
       "                        <td id=\"T_27bff718_494c_11ea_82ca_7735170f7fefrow12_col1\" class=\"data row12 col1\" >0</td>\n",
       "                        <td id=\"T_27bff718_494c_11ea_82ca_7735170f7fefrow12_col2\" class=\"data row12 col2\" >0</td>\n",
       "            </tr>\n",
       "            <tr>\n",
       "                        <th id=\"T_27bff718_494c_11ea_82ca_7735170f7feflevel0_row13\" class=\"row_heading level0 row13\" >Patrick</th>\n",
       "                        <td id=\"T_27bff718_494c_11ea_82ca_7735170f7fefrow13_col0\" class=\"data row13 col0\" >50</td>\n",
       "                        <td id=\"T_27bff718_494c_11ea_82ca_7735170f7fefrow13_col1\" class=\"data row13 col1\" >0</td>\n",
       "                        <td id=\"T_27bff718_494c_11ea_82ca_7735170f7fefrow13_col2\" class=\"data row13 col2\" >0</td>\n",
       "            </tr>\n",
       "    </tbody></table>"
      ],
      "text/plain": [
       "<pandas.io.formats.style.Styler at 0x7f4cf2acf210>"
      ]
     },
     "execution_count": 13,
     "metadata": {},
     "output_type": "execute_result"
    }
   ],
   "source": [
    "def highlight_max(s):\n",
    "    '''\n",
    "    highlight the maximum in a Series green.\n",
    "    '''\n",
    "    is_max = s == s.max()\n",
    "    return ['background-color: yellow' if v else '' for v in is_max]\n",
    "\n",
    "summary = df.groupby(['candidate'])[['first_exp','final_exp','sde']].sum()\n",
    "summary = summary.sort_values('sde', ascending=False)\n",
    "summary.style.apply(highlight_max)"
   ]
  },
  {
   "cell_type": "code",
   "execution_count": null,
   "metadata": {},
   "outputs": [],
   "source": []
  },
  {
   "cell_type": "code",
   "execution_count": null,
   "metadata": {},
   "outputs": [],
   "source": []
  },
  {
   "cell_type": "code",
   "execution_count": null,
   "metadata": {},
   "outputs": [],
   "source": []
  }
 ],
 "metadata": {
  "kernelspec": {
   "display_name": "Python 3",
   "language": "python",
   "name": "python3"
  },
  "language_info": {
   "codemirror_mode": {
    "name": "ipython",
    "version": 3
   },
   "file_extension": ".py",
   "mimetype": "text/x-python",
   "name": "python",
   "nbconvert_exporter": "python",
   "pygments_lexer": "ipython3",
   "version": "3.7.6"
  },
  "toc": {
   "base_numbering": 1,
   "nav_menu": {},
   "number_sections": true,
   "sideBar": true,
   "skip_h1_title": false,
   "title_cell": "Table of Contents",
   "title_sidebar": "Contents",
   "toc_cell": false,
   "toc_position": {},
   "toc_section_display": true,
   "toc_window_display": false
  }
 },
 "nbformat": 4,
 "nbformat_minor": 2
}
